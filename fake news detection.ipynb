{
 "cells":[
  {
   "cell_type":"code",
   "source":[
    "#import required libraries and load dataset\n",
    "import numpy as np\n",
    "import pandas as pd\n",
    "from sklearn.feature_extraction.text import CountVectorizer\n",
    "from sklearn.model_selection import train_test_split\n",
    "from sklearn.naive_bayes import MultinomialNB\n",
    "data=pd.read_csv('fake_or_real_news.csv')\n",
    "data"
   ],
   "execution_count":4,
   "outputs":[
    {
     "data":{
      "text\/html":[
       "<div>\n",
       "<style scoped>\n",
       "    .dataframe tbody tr th:only-of-type {\n",
       "        vertical-align: middle;\n",
       "    }\n",
       "\n",
       "    .dataframe tbody tr th {\n",
       "        vertical-align: top;\n",
       "    }\n",
       "\n",
       "    .dataframe thead th {\n",
       "        text-align: right;\n",
       "    }\n",
       "<\/style>\n",
       "<table border=\"1\" class=\"dataframe\">\n",
       "  <thead>\n",
       "    <tr style=\"text-align: right;\">\n",
       "      <th><\/th>\n",
       "      <th>Unnamed: 0<\/th>\n",
       "      <th>title<\/th>\n",
       "      <th>text<\/th>\n",
       "      <th>label<\/th>\n",
       "    <\/tr>\n",
       "  <\/thead>\n",
       "  <tbody>\n",
       "    <tr>\n",
       "      <th>0<\/th>\n",
       "      <td>8476<\/td>\n",
       "      <td>You Can Smell Hillary’s Fear<\/td>\n",
       "      <td>Daniel Greenfield, a Shillman Journalism Fello...<\/td>\n",
       "      <td>FAKE<\/td>\n",
       "    <\/tr>\n",
       "    <tr>\n",
       "      <th>1<\/th>\n",
       "      <td>10294<\/td>\n",
       "      <td>Watch The Exact Moment Paul Ryan Committed Pol...<\/td>\n",
       "      <td>Google Pinterest Digg Linkedin Reddit Stumbleu...<\/td>\n",
       "      <td>FAKE<\/td>\n",
       "    <\/tr>\n",
       "    <tr>\n",
       "      <th>2<\/th>\n",
       "      <td>3608<\/td>\n",
       "      <td>Kerry to go to Paris in gesture of sympathy<\/td>\n",
       "      <td>U.S. Secretary of State John F. Kerry said Mon...<\/td>\n",
       "      <td>REAL<\/td>\n",
       "    <\/tr>\n",
       "    <tr>\n",
       "      <th>3<\/th>\n",
       "      <td>10142<\/td>\n",
       "      <td>Bernie supporters on Twitter erupt in anger ag...<\/td>\n",
       "      <td>— Kaydee King (@KaydeeKing) November 9, 2016 T...<\/td>\n",
       "      <td>FAKE<\/td>\n",
       "    <\/tr>\n",
       "    <tr>\n",
       "      <th>4<\/th>\n",
       "      <td>875<\/td>\n",
       "      <td>The Battle of New York: Why This Primary Matters<\/td>\n",
       "      <td>It's primary day in New York and front-runners...<\/td>\n",
       "      <td>REAL<\/td>\n",
       "    <\/tr>\n",
       "    <tr>\n",
       "      <th>...<\/th>\n",
       "      <td>...<\/td>\n",
       "      <td>...<\/td>\n",
       "      <td>...<\/td>\n",
       "      <td>...<\/td>\n",
       "    <\/tr>\n",
       "    <tr>\n",
       "      <th>6330<\/th>\n",
       "      <td>4490<\/td>\n",
       "      <td>State Department says it can't find emails fro...<\/td>\n",
       "      <td>The State Department told the Republican Natio...<\/td>\n",
       "      <td>REAL<\/td>\n",
       "    <\/tr>\n",
       "    <tr>\n",
       "      <th>6331<\/th>\n",
       "      <td>8062<\/td>\n",
       "      <td>The ‘P’ in PBS Should Stand for ‘Plutocratic’ ...<\/td>\n",
       "      <td>The ‘P’ in PBS Should Stand for ‘Plutocratic’ ...<\/td>\n",
       "      <td>FAKE<\/td>\n",
       "    <\/tr>\n",
       "    <tr>\n",
       "      <th>6332<\/th>\n",
       "      <td>8622<\/td>\n",
       "      <td>Anti-Trump Protesters Are Tools of the Oligarc...<\/td>\n",
       "      <td>Anti-Trump Protesters Are Tools of the Oligar...<\/td>\n",
       "      <td>FAKE<\/td>\n",
       "    <\/tr>\n",
       "    <tr>\n",
       "      <th>6333<\/th>\n",
       "      <td>4021<\/td>\n",
       "      <td>In Ethiopia, Obama seeks progress on peace, se...<\/td>\n",
       "      <td>ADDIS ABABA, Ethiopia —President Obama convene...<\/td>\n",
       "      <td>REAL<\/td>\n",
       "    <\/tr>\n",
       "    <tr>\n",
       "      <th>6334<\/th>\n",
       "      <td>4330<\/td>\n",
       "      <td>Jeb Bush Is Suddenly Attacking Trump. Here's W...<\/td>\n",
       "      <td>Jeb Bush Is Suddenly Attacking Trump. Here's W...<\/td>\n",
       "      <td>REAL<\/td>\n",
       "    <\/tr>\n",
       "  <\/tbody>\n",
       "<\/table>\n",
       "<p>6335 rows × 4 columns<\/p>\n",
       "<\/div>"
      ]
     },
     "metadata":{},
     "output_type":"display_data"
    }
   ],
   "metadata":{
    "datalore":{
     "node_id":"vmR6ncQWh0wzzSnR31CD6I",
     "type":"CODE",
     "hide_input_from_viewers":true,
     "hide_output_from_viewers":true
    }
   }
  },
  {
   "cell_type":"code",
   "source":[
    "x=np.array(data['title'])\n",
    "y=np.array(data['label'])\n",
    "cv=CountVectorizer()\n",
    "x=cv.fit_transform(x)"
   ],
   "execution_count":3,
   "outputs":[],
   "metadata":{
    "datalore":{
     "node_id":"CPbdxWeKn536ajCSqPVo15",
     "type":"CODE",
     "hide_input_from_viewers":true,
     "hide_output_from_viewers":true
    }
   }
  },
  {
   "cell_type":"code",
   "source":[
    "#Now let’s separate the dataset into training and testing sets, and then I’ll use the Multinomial Naive Bayes algorithm to train the fake news detection model:\n",
    "xtrain , xtest , ytrain , ytest = train_test_split(x,y, test_size=0.2,random_state=42)\n",
    "model=MultinomialNB()\n",
    "model.fit(xtrain,ytrain)\n",
    "print(model.score(xtest,ytest))"
   ],
   "execution_count":6,
   "outputs":[
    {
     "name":"stdout",
     "text":[
      "0.8074191002367798\n"
     ],
     "output_type":"stream"
    }
   ],
   "metadata":{
    "datalore":{
     "node_id":"zixV2QBJHFjNc2HljFtCbl",
     "type":"CODE",
     "hide_input_from_viewers":true,
     "hide_output_from_viewers":true
    }
   }
  },
  {
   "cell_type":"code",
   "source":[
    "news_headline=\"Don't blame all immigrants for San Francisco shooting\"\n",
    "\n",
    "data=cv.transform([news_headline]).toarray()\n",
    "print(model.predict(data))"
   ],
   "execution_count":14,
   "outputs":[
    {
     "name":"stdout",
     "text":[
      "['REAL']\n"
     ],
     "output_type":"stream"
    }
   ],
   "metadata":{
    "datalore":{
     "node_id":"gy8wLl0ZZxpcX2ZpQjtaaP",
     "type":"CODE",
     "hide_input_from_viewers":true,
     "hide_output_from_viewers":true
    }
   }
  },
  {
   "cell_type":"code",
   "source":[
    "news_headline=\"tiger eat grass\"\n",
    "\n",
    "data=cv.transform([news_headline]).toarray()\n",
    "print(model.predict(data))"
   ],
   "execution_count":15,
   "outputs":[
    {
     "name":"stdout",
     "text":[
      "['FAKE']\n"
     ],
     "output_type":"stream"
    }
   ],
   "metadata":{
    "datalore":{
     "node_id":"tcBm3QdU1o8oyKoW54bZf0",
     "type":"CODE",
     "hide_input_from_viewers":true,
     "hide_output_from_viewers":true
    }
   }
  }
 ],
 "metadata":{
  "kernelspec":{
   "display_name":"Python",
   "language":"python",
   "name":"python"
  },
  "datalore":{
   "computation_mode":"JUPYTER",
   "packages":[],
   "report_row_ids":[],
   "version":3
  }
 },
 "nbformat":4,
 "nbformat_minor":4
}